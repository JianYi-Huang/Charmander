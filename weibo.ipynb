{
 "metadata": {
  "language_info": {
   "codemirror_mode": {
    "name": "ipython",
    "version": 3
   },
   "file_extension": ".py",
   "mimetype": "text/x-python",
   "name": "python",
   "nbconvert_exporter": "python",
   "pygments_lexer": "ipython3",
   "version": "3.8.5-final"
  },
  "orig_nbformat": 2,
  "kernelspec": {
   "name": "python_defaultSpec_1598544416109",
   "display_name": "Python 3.8.5 64-bit"
  }
 },
 "nbformat": 4,
 "nbformat_minor": 2,
 "cells": [
  {
   "cell_type": "code",
   "execution_count": 207,
   "metadata": {
    "tags": []
   },
   "outputs": [
    {
     "output_type": "error",
     "ename": "SyntaxError",
     "evalue": "invalid syntax (<ipython-input-207-00c9ce1c758a>, line 45)",
     "traceback": [
      "\u001b[1;36m  File \u001b[1;32m\"<ipython-input-207-00c9ce1c758a>\"\u001b[1;36m, line \u001b[1;32m45\u001b[0m\n\u001b[1;33m    else:\u001b[0m\n\u001b[1;37m    ^\u001b[0m\n\u001b[1;31mSyntaxError\u001b[0m\u001b[1;31m:\u001b[0m invalid syntax\n"
     ]
    }
   ],
   "source": [
    "import requests\n",
    "from bs4 import BeautifulSoup\n",
    "import json\n",
    "import re\n",
    "import time\n",
    "import datetime\n",
    "\n",
    "headers = {'user-agent':\n",
    "          'Mozilla/5.0 (Windows NT 10.0; Win64; x64) AppleWebKit/537.36 (KHTML, like Gecko) Chrome/84.0.4147.105 Safari/537.36'\n",
    "          }\n",
    "          \n",
    "cookies = {'cookies':\n",
    "           'SUBP=0033WrSXqPxfM72-Ws9jqgMF55529P9D9W5ff6F7iFj6sE1L2v511-G.; SUB=_2AkMoHw0zf8NxqwJRmf8RxG3jZY9-yQjEieKeQ_zoJRMxHRl-yj9jqkMZtRB6A58j3CcvF79rkvA7lOcOp4Ica6bGk1OJ; login_sid_t=611a5bcf4bed078a006ff618d8100b21; cross_origin_proto=SSL; Ugrow-G0=cf25a00b541269674d0feadd72dce35f; YF-V5-G0=7a7738669dbd9095bf06898e71d6256d; WBStorage=70753a84f86f85ff|undefined; _s_tentry=passport.weibo.com; Apache=2971103865920.6855.1598259723500; SINAGLOBAL=2971103865920.6855.1598259723500; ULV=1598259723506:1:1:1:2971103865920.6855.1598259723500:; wb_view_log=1920*10801; YF-Page-G0=8a1a69dc6ba21f1cd10b039dff0f4381|1598259895|1598259710'\n",
    "          }\n",
    "\n",
    "# url_1 = input ( \"请输入微博博主的url:\" + str() ) \n",
    "last_time = int(time.mktime(time.strptime(datetime.datetime.now().strftime('%Y-%m-%d'), \"%Y-%m-%d\"))) #获取就今天0点0分0秒的时间戳\n",
    "weibo_data = {}\n",
    "\n",
    "while True:\n",
    "    # url = url_1 + '&page=' + str(i)\n",
    "    # url = 'https://weibo.com/u/7230522444?is_search=0&visible=0&is_all=1&is_tag=0&profile_ftype=1&page=1#feedtop'\n",
    "    url = 'https://weibo.com/u/7230522444?is_all=1'\n",
    "    req = requests.get(url, headers=headers, cookies=cookies).text\n",
    "    detail = re.findall(r'WB_detail(.*?)WB_like', req, re.I) # WB_detail\n",
    "\n",
    "    for i in detail:\n",
    "\n",
    "        weibo_data['datetime'] = re.search(r'(\\d{4}-\\d{1,2}-\\d{1,2}\\s\\d{1,2}:\\d{1,2})', i, re.I).group() #日期和时间\n",
    "        nickname = re.search(r'nick-name=\\\\\"(.*?)\\\\\">', i, re.I).group()\n",
    "        nickname = nickname.replace('nick-name=\\\\\"', '') # 删除nick-name=\\\"\n",
    "        weibo_data['nickname'] = nickname.replace('\\\\\">', '') # 删除\\\"> #博主名称\n",
    "        weibotext = re.search(r'nick-name=\\\\\"(.*?)<\\\\/div>', i, re.I).group()\n",
    "        weibotext = re.search(r'>\\\\n(.*?)<\\\\/div>', weibotext, re.I).group()\n",
    "        weibotext = weibotext.replace(' ', '') # 删除空格\n",
    "        weibotext = weibotext.replace('>\\\\n', '') # 删除>\\n\n",
    "        weibotext = weibotext.replace('<\\\\/div>', '') # 删除<\\/div>\n",
    "        weibo_data['weibotext'] = weibotext.replace('<br>', '\\n') # <br>替换换行\n",
    "        print(weibo_data)\n",
    "    time.sleep(999)\n",
    "    try:\n",
    "        print('')\n",
    "        time.sleep(5)\n",
    "    except Exception as e:\n",
    "        print (e)\n",
    "        pass"
   ]
  },
  {
   "cell_type": "code",
   "execution_count": 208,
   "metadata": {
    "tags": []
   },
   "outputs": [],
   "source": [
    "# json post请求\n",
    "import requests\n",
    "import json\n",
    "\n",
    "# url = \"http://localhost:5000/todo/api/v1.0/tasks\"\n",
    "# data = {\"title\":\"val\"}\n",
    "# res = requests.post(url=url,json=data)\n",
    "# print(res.text)"
   ]
  },
  {
   "cell_type": "code",
   "execution_count": 209,
   "metadata": {
    "tags": []
   },
   "outputs": [
    {
     "output_type": "stream",
     "name": "stdout",
     "text": "2020-08-28 01:33:18.476668\ntime.struct_time(tm_year=2020, tm_mon=8, tm_mday=28, tm_hour=1, tm_min=33, tm_sec=18, tm_wday=4, tm_yday=241, tm_isdst=0)\ntime.struct_time(tm_year=2020, tm_mon=8, tm_mday=28, tm_hour=1, tm_min=33, tm_sec=18, tm_wday=4, tm_yday=241, tm_isdst=-1)\n1598549598\n"
    }
   ],
   "source": [
    "import datetime\n",
    "now_time = datetime.datetime.now()\n",
    "print(now_time)\n",
    "now_time = time.localtime()\n",
    "print(now_time)\n",
    "dtime = datetime.datetime.now()\n",
    "print(dtime.timetuple())\n",
    "ans_time = time.mktime(dtime.timetuple())\n",
    "print(int(ans_time))"
   ]
  },
  {
   "cell_type": "code",
   "execution_count": 210,
   "metadata": {
    "tags": []
   },
   "outputs": [
    {
     "output_type": "stream",
     "name": "stdout",
     "text": "<class 'str'>\n3.把字符串转成时间戳形式: 1598544000.0\n"
    }
   ],
   "source": [
    "import datetime\n",
    "str_time = datetime.datetime.now().strftime('%Y-%m-%d')\n",
    "print(type(str_time))\n",
    "\n",
    "print(\"把字符串转成时间戳形式:\", time.mktime(time.strptime(str_time, \"%Y-%m-%d\")))\n",
    "time.mktime(time.strptime(st, \"%Y-%m-%d %H:%M:%S\"))\n"
   ]
  },
  {
   "cell_type": "code",
   "execution_count": null,
   "metadata": {},
   "outputs": [],
   "source": []
  }
 ]
}